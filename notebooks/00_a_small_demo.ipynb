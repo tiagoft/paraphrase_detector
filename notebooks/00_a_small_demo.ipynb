{
 "cells": [
  {
   "cell_type": "code",
   "execution_count": null,
   "metadata": {},
   "outputs": [],
   "source": [
    "import numpy as np\n",
    "from scipy.spatial.distance import cosine\n",
    "from fastdtw import fastdtw\n",
    "from sentence_transformers import SentenceTransformer"
   ]
  },
  {
   "cell_type": "code",
   "execution_count": null,
   "metadata": {},
   "outputs": [],
   "source": [
    "model = SentenceTransformer('sentence-transformers/paraphrase-multilingual-mpnet-base-v2')"
   ]
  },
  {
   "cell_type": "code",
   "execution_count": 3,
   "metadata": {},
   "outputs": [],
   "source": [
    "def read_senteces(filename : str) -> list:\n",
    "    import re\n",
    "\n",
    "    with open(filename, 'r') as file:\n",
    "        text = file.read()\n",
    "    sentences = re.split(r'[.:!?\\n]+', text)\n",
    "    return sentences\n",
    "\n",
    "sentences_students = read_senteces('text_students.txt')\n",
    "sentences_blog = read_senteces('text_blog.txt')\n"
   ]
  },
  {
   "cell_type": "code",
   "execution_count": null,
   "metadata": {},
   "outputs": [],
   "source": [
    "print(sentences_blog)"
   ]
  },
  {
   "cell_type": "code",
   "execution_count": null,
   "metadata": {},
   "outputs": [],
   "source": []
  },
  {
   "cell_type": "code",
   "execution_count": 50,
   "metadata": {},
   "outputs": [],
   "source": [
    "embeddings_students = model.encode(sentences_students)\n",
    "embeddings_blog = model.encode(sentences_blog)"
   ]
  },
  {
   "cell_type": "code",
   "execution_count": null,
   "metadata": {},
   "outputs": [],
   "source": [
    "from sklearn.metrics.pairwise import cosine_similarity\n",
    "\n",
    "# Calculate cosine similarity\n",
    "cosine_similarities = cosine_similarity(embeddings_students, embeddings_blog)\n",
    "\n",
    "print(embeddings_students.shape, embeddings_blog.shape, cosine_similarities.shape)"
   ]
  },
  {
   "cell_type": "code",
   "execution_count": null,
   "metadata": {},
   "outputs": [],
   "source": [
    "import seaborn as sns\n",
    "\n",
    "import matplotlib.pyplot as plt\n",
    "\n",
    "# Plot the cosine similarities as a heatmap\n",
    "plt.figure(figsize=(5, 3))\n",
    "sns.heatmap(cosine_similarities.clip(0.3,1), annot=False, fmt=\".2f\", cmap='coolwarm')\n",
    "plt.title('Cosine Similarities Heatmap')\n",
    "plt.xlabel('Blog Sentences')\n",
    "plt.ylabel('Student Sentences')\n",
    "plt.show()"
   ]
  },
  {
   "cell_type": "code",
   "execution_count": null,
   "metadata": {},
   "outputs": [],
   "source": [
    "# Compute Dynamic Time Warping distance\n",
    "distance, path = fastdtw(embeddings_students, embeddings_blog, dist=cosine)\n",
    "\n",
    "print(f\"DTW distance: {distance}\")\n",
    "print(f\"DTW path: {path}\")"
   ]
  },
  {
   "cell_type": "code",
   "execution_count": null,
   "metadata": {},
   "outputs": [],
   "source": [
    "path_ = np.array(path)\n",
    "avg_cos_dist = distance / path_.shape[0]\n",
    "print(avg_cos_dist)\n",
    "# Plot the cosine similarities as a heatmap\n",
    "plt.figure(figsize=(5, 3))\n",
    "sns.heatmap(cosine_similarities, annot=False, fmt=\".2f\", cmap='coolwarm')\n",
    "plt.plot(path_[:,1]+0.5, path_[:,0]+0.5, color='black')\n",
    "plt.title(f'Cosine Similarities Heatmap\\nAvg DTW distance: {avg_cos_dist:.2f}')\n",
    "plt.xlabel('Blog Sentences')\n",
    "plt.ylabel('Student Sentences')\n",
    "plt.show()"
   ]
  },
  {
   "cell_type": "code",
   "execution_count": null,
   "metadata": {},
   "outputs": [],
   "source": [
    "similarities = []\n",
    "for i in range(path_.shape[0]):\n",
    "    similarities.append(cosine_similarities[path_[i,0], path_[i,1]])\n",
    "\n",
    "plt.hist(similarities, bins=20, color='blue', edgecolor='black')\n",
    "plt.title('Histogram of Similarities')\n",
    "plt.xlabel('Similarity')\n",
    "plt.ylabel('Frequency')\n",
    "plt.show()"
   ]
  },
  {
   "cell_type": "code",
   "execution_count": null,
   "metadata": {},
   "outputs": [],
   "source": []
  }
 ],
 "metadata": {
  "kernelspec": {
   "display_name": "aulas",
   "language": "python",
   "name": "python3"
  },
  "language_info": {
   "codemirror_mode": {
    "name": "ipython",
    "version": 3
   },
   "file_extension": ".py",
   "mimetype": "text/x-python",
   "name": "python",
   "nbconvert_exporter": "python",
   "pygments_lexer": "ipython3",
   "version": "3.12.5"
  }
 },
 "nbformat": 4,
 "nbformat_minor": 2
}
